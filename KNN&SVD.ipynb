{
 "cells": [
  {
   "cell_type": "code",
   "execution_count": 1,
   "metadata": {
    "id": "cK8Tzc5JGz0l",
    "tags": []
   },
   "outputs": [],
   "source": [
    "from surprise import KNNBasic, BaselineOnly, KNNWithMeans,KNNWithZScore, KNNBaseline\n",
    "from surprise.model_selection import cross_validate\n",
    "from surprise import Dataset\n",
    "from surprise import Reader\n",
    "import numpy as np"
   ]
  },
  {
   "cell_type": "code",
   "execution_count": 2,
   "metadata": {
    "colab": {
     "base_uri": "https://localhost:8080/"
    },
    "id": "lVX2TH0cG9uC",
    "outputId": "1f30a66d-af9a-4d69-8a71-e27110538508",
    "tags": []
   },
   "outputs": [],
   "source": [
    "np.random.seed(42)"
   ]
  },
  {
   "cell_type": "code",
   "execution_count": null,
   "metadata": {},
   "outputs": [],
   "source": []
  },
  {
   "cell_type": "code",
   "execution_count": 3,
   "metadata": {
    "id": "ME9yoUjtHZNc",
    "tags": []
   },
   "outputs": [],
   "source": [
    "import pandas as pd\n",
    "df = pd.read_parquet(\"user_item_ratio_stacked.parquet\")\n",
    "df.columns = [\"userID\", \"itemID\", \"rating\"]"
   ]
  },
  {
   "cell_type": "code",
   "execution_count": 4,
   "metadata": {},
   "outputs": [],
   "source": [
    "filtered_df = df.groupby('userID')['itemID'].count().reset_index().loc[lambda x: x['itemID'] >= 3]\n"
   ]
  },
  {
   "cell_type": "code",
   "execution_count": 5,
   "metadata": {},
   "outputs": [],
   "source": [
    "df= df.loc[df.userID.isin(filtered_df.userID)]"
   ]
  },
  {
   "cell_type": "code",
   "execution_count": 6,
   "metadata": {
    "id": "R5HhzWT9HhIF",
    "tags": []
   },
   "outputs": [],
   "source": [
    "from surprise import SVD, NMF, SlopeOne, KNNBasic, KNNWithMeans, KNNBaseline, CoClustering, BaselineOnly, NormalPredictor\n",
    "from surprise.model_selection import cross_validate\n",
    "from surprise.model_selection import KFold\n",
    "from surprise.model_selection import GridSearchCV\n",
    "from sklearn.model_selection import train_test_split\n",
    "import numpy as np"
   ]
  },
  {
   "cell_type": "code",
   "execution_count": 7,
   "metadata": {},
   "outputs": [],
   "source": [
    "from surprise import KNNBasic, KNNWithZScore, KNNWithMeans, Dataset, Reader\n",
    "from surprise.model_selection import GridSearchCV, train_test_split\n",
    "\n",
    "# Đảm bảo bạn đã có dữ liệu và đã tạo đối tượng Reader để đọc dữ liệu.\n",
    "reader = Reader(rating_scale=(0, 1))\n",
    "data = Dataset.load_from_df(df[['userID', 'itemID', 'rating']], reader)\n",
    "\n",
    "# Chia tập dữ liệu thành tập huấn luyện và tập kiểm tra.\n",
    "trainset, testset = train_test_split(data, test_size=0.2)\n"
   ]
  },
  {
   "cell_type": "code",
   "execution_count": 8,
   "metadata": {
    "colab": {
     "base_uri": "https://localhost:8080/"
    },
    "id": "a22-PrVT7h2W",
    "outputId": "c46de921-88a6-4b2c-f07c-7cda42754f0f",
    "tags": []
   },
   "outputs": [
    {
     "name": "stdout",
     "output_type": "stream",
     "text": [
      "Computing the cosine similarity matrix...\n",
      "Done computing similarity matrix.\n",
      "Computing the cosine similarity matrix...\n",
      "Done computing similarity matrix.\n",
      "Computing the cosine similarity matrix...\n",
      "Done computing similarity matrix.\n",
      "Computing the msd similarity matrix...\n",
      "Done computing similarity matrix.\n",
      "Computing the msd similarity matrix...\n",
      "Done computing similarity matrix.\n",
      "Computing the msd similarity matrix...\n",
      "Done computing similarity matrix.\n",
      "Computing the pearson similarity matrix...\n",
      "Done computing similarity matrix.\n",
      "Computing the pearson similarity matrix...\n",
      "Done computing similarity matrix.\n",
      "Computing the pearson similarity matrix...\n",
      "Done computing similarity matrix.\n",
      "Computing the cosine similarity matrix...\n",
      "Done computing similarity matrix.\n",
      "Computing the cosine similarity matrix...\n",
      "Done computing similarity matrix.\n",
      "Computing the cosine similarity matrix...\n",
      "Done computing similarity matrix.\n",
      "Computing the msd similarity matrix...\n",
      "Done computing similarity matrix.\n",
      "Computing the msd similarity matrix...\n",
      "Done computing similarity matrix.\n",
      "Computing the msd similarity matrix...\n",
      "Done computing similarity matrix.\n",
      "Computing the pearson similarity matrix...\n",
      "Done computing similarity matrix.\n",
      "Computing the pearson similarity matrix...\n",
      "Done computing similarity matrix.\n",
      "Computing the pearson similarity matrix...\n",
      "Done computing similarity matrix.\n",
      "Computing the cosine similarity matrix...\n",
      "Done computing similarity matrix.\n",
      "Computing the cosine similarity matrix...\n",
      "Done computing similarity matrix.\n",
      "Computing the cosine similarity matrix...\n",
      "Done computing similarity matrix.\n",
      "Computing the msd similarity matrix...\n",
      "Done computing similarity matrix.\n",
      "Computing the msd similarity matrix...\n",
      "Done computing similarity matrix.\n",
      "Computing the msd similarity matrix...\n",
      "Done computing similarity matrix.\n",
      "Computing the pearson similarity matrix...\n",
      "Done computing similarity matrix.\n",
      "Computing the pearson similarity matrix...\n",
      "Done computing similarity matrix.\n",
      "Computing the pearson similarity matrix...\n",
      "Done computing similarity matrix.\n",
      "Best RMSE Score: 0.1995131050557928\n",
      "Best Parameters: {'k': 10, 'sim_options': {'name': 'msd', 'user_based': True}}\n",
      "CPU times: user 36min 3s, sys: 9min 41s, total: 45min 45s\n",
      "Wall time: 1h 12min 2s\n"
     ]
    }
   ],
   "source": [
    "%%time\n",
    "param_grid = {\n",
    "    'k': [10, 20, 30],  # Thử nghiệm với các giá trị k khác nhau\n",
    "    'sim_options': {\n",
    "        'name': ['cosine','msd', 'pearson'],\n",
    "        # 'user_based': [True]\n",
    "    }\n",
    "}\n",
    "\n",
    "# Tạo đối tượng GridSearchCV để tìm tham số tối ưu.\n",
    "grid_search = GridSearchCV(KNNBasic, param_grid, measures=['rmse', 'mae'], cv=3)\n",
    "grid_search.fit(data)\n",
    "\n",
    "# In ra tham số tối ưu và hiệu suất tốt nhất.\n",
    "print(\"Best RMSE Score:\", grid_search.best_score['rmse'])\n",
    "print(\"Best Parameters:\", grid_search.best_params['rmse'])\n"
   ]
  },
  {
   "cell_type": "code",
   "execution_count": 9,
   "metadata": {
    "tags": []
   },
   "outputs": [
    {
     "name": "stdout",
     "output_type": "stream",
     "text": [
      "Computing the msd similarity matrix...\n",
      "Done computing similarity matrix.\n",
      "RMSE: 0.1902\n",
      "MAE:  0.1331\n",
      "CPU times: user 59.6 s, sys: 3.76 s, total: 1min 3s\n",
      "Wall time: 1min 4s\n"
     ]
    }
   ],
   "source": [
    "%%time\n",
    "best_k = grid_search.best_params['rmse']['k']\n",
    "best_sim_options = grid_search.best_params['rmse']['sim_options']\n",
    "\n",
    "# Tạo mô hình KNN dựa trên tham số tối ưu.\n",
    "model = KNNBasic(k=best_k, sim_options=best_sim_options)\n",
    "\n",
    "# Huấn luyện mô hình trên tập huấn luyện.\n",
    "model.fit(trainset)\n",
    "\n",
    "# Dự đoán và đánh giá trên tập kiểm tra.\n",
    "predictions = model.test(testset)\n",
    "\n",
    "from surprise import accuracy\n",
    "rmse = accuracy.rmse(predictions)\n",
    "mae = accuracy.mae(predictions)\n"
   ]
  },
  {
   "cell_type": "markdown",
   "metadata": {},
   "source": [
    "## với KNNwithmean"
   ]
  },
  {
   "cell_type": "code",
   "execution_count": 10,
   "metadata": {
    "id": "rJ9--G-a9aQ2",
    "tags": []
   },
   "outputs": [
    {
     "name": "stdout",
     "output_type": "stream",
     "text": [
      "Computing the cosine similarity matrix...\n",
      "Done computing similarity matrix.\n",
      "Computing the cosine similarity matrix...\n",
      "Done computing similarity matrix.\n",
      "Computing the cosine similarity matrix...\n",
      "Done computing similarity matrix.\n",
      "Computing the msd similarity matrix...\n",
      "Done computing similarity matrix.\n",
      "Computing the msd similarity matrix...\n",
      "Done computing similarity matrix.\n",
      "Computing the msd similarity matrix...\n",
      "Done computing similarity matrix.\n",
      "Computing the pearson similarity matrix...\n",
      "Done computing similarity matrix.\n",
      "Computing the pearson similarity matrix...\n",
      "Done computing similarity matrix.\n",
      "Computing the pearson similarity matrix...\n",
      "Done computing similarity matrix.\n",
      "Computing the cosine similarity matrix...\n",
      "Done computing similarity matrix.\n",
      "Computing the cosine similarity matrix...\n",
      "Done computing similarity matrix.\n",
      "Computing the cosine similarity matrix...\n",
      "Done computing similarity matrix.\n",
      "Computing the msd similarity matrix...\n",
      "Done computing similarity matrix.\n",
      "Computing the msd similarity matrix...\n",
      "Done computing similarity matrix.\n",
      "Computing the msd similarity matrix...\n",
      "Done computing similarity matrix.\n",
      "Computing the pearson similarity matrix...\n",
      "Done computing similarity matrix.\n",
      "Computing the pearson similarity matrix...\n",
      "Done computing similarity matrix.\n",
      "Computing the pearson similarity matrix...\n",
      "Done computing similarity matrix.\n",
      "Computing the cosine similarity matrix...\n",
      "Done computing similarity matrix.\n",
      "Computing the cosine similarity matrix...\n",
      "Done computing similarity matrix.\n",
      "Computing the cosine similarity matrix...\n",
      "Done computing similarity matrix.\n",
      "Computing the msd similarity matrix...\n",
      "Done computing similarity matrix.\n",
      "Computing the msd similarity matrix...\n",
      "Done computing similarity matrix.\n",
      "Computing the msd similarity matrix...\n",
      "Done computing similarity matrix.\n",
      "Computing the pearson similarity matrix...\n",
      "Done computing similarity matrix.\n",
      "Computing the pearson similarity matrix...\n",
      "Done computing similarity matrix.\n",
      "Computing the pearson similarity matrix...\n",
      "Done computing similarity matrix.\n",
      "Best RMSE Score: 0.28922743960400976\n",
      "Best Parameters: {'k': 10, 'sim_options': {'name': 'msd', 'user_based': True}}\n",
      "CPU times: user 35min 47s, sys: 10min 3s, total: 45min 51s\n",
      "Wall time: 52min 54s\n"
     ]
    }
   ],
   "source": [
    "%%time\n",
    "param_grid = {\n",
    "    'k': [10, 20, 30],  # Thử nghiệm với các giá trị k khác nhau\n",
    "    'sim_options': {\n",
    "        'name': ['cosine','msd', 'pearson'],\n",
    "        # 'user_based': [True]\n",
    "    }\n",
    "}\n",
    "\n",
    "# Tạo đối tượng GridSearchCV để tìm tham số tối ưu.\n",
    "grid_search = GridSearchCV(KNNWithMeans, param_grid, measures=['rmse', 'mae'], cv=3)\n",
    "grid_search.fit(data)\n",
    "\n",
    "# In ra tham số tối ưu và hiệu suất tốt nhất.\n",
    "print(\"Best RMSE Score:\", grid_search.best_score['rmse'])\n",
    "print(\"Best Parameters:\", grid_search.best_params['rmse'])\n"
   ]
  },
  {
   "cell_type": "code",
   "execution_count": 11,
   "metadata": {
    "tags": []
   },
   "outputs": [
    {
     "name": "stdout",
     "output_type": "stream",
     "text": [
      "Computing the msd similarity matrix...\n",
      "Done computing similarity matrix.\n",
      "RMSE: 0.1902\n",
      "MAE:  0.1331\n",
      "CPU times: user 1min 7s, sys: 5.71 s, total: 1min 13s\n",
      "Wall time: 1min 14s\n"
     ]
    }
   ],
   "source": [
    "%%time\n",
    "best_k = grid_search.best_params['rmse']['k']\n",
    "best_sim_options = grid_search.best_params['rmse']['sim_options']\n",
    "\n",
    "# Tạo mô hình KNN dựa trên tham số tối ưu.\n",
    "model = KNNBasic(k=best_k, sim_options=best_sim_options)\n",
    "\n",
    "# Huấn luyện mô hình trên tập huấn luyện.\n",
    "model.fit(trainset)\n",
    "\n",
    "# Dự đoán và đánh giá trên tập kiểm tra.\n",
    "predictions = model.test(testset)\n",
    "\n",
    "from surprise import accuracy\n",
    "rmse = accuracy.rmse(predictions)\n",
    "mae = accuracy.mae(predictions)\n"
   ]
  },
  {
   "cell_type": "markdown",
   "metadata": {},
   "source": [
    "## KNNwithZscore"
   ]
  },
  {
   "cell_type": "code",
   "execution_count": 12,
   "metadata": {
    "tags": []
   },
   "outputs": [
    {
     "name": "stdout",
     "output_type": "stream",
     "text": [
      "Computing the cosine similarity matrix...\n",
      "Done computing similarity matrix.\n",
      "Computing the cosine similarity matrix...\n",
      "Done computing similarity matrix.\n",
      "Computing the cosine similarity matrix...\n",
      "Done computing similarity matrix.\n",
      "Computing the msd similarity matrix...\n",
      "Done computing similarity matrix.\n",
      "Computing the msd similarity matrix...\n",
      "Done computing similarity matrix.\n",
      "Computing the msd similarity matrix...\n",
      "Done computing similarity matrix.\n",
      "Computing the pearson similarity matrix...\n",
      "Done computing similarity matrix.\n",
      "Computing the pearson similarity matrix...\n",
      "Done computing similarity matrix.\n",
      "Computing the pearson similarity matrix...\n",
      "Done computing similarity matrix.\n",
      "Computing the cosine similarity matrix...\n",
      "Done computing similarity matrix.\n",
      "Computing the cosine similarity matrix...\n",
      "Done computing similarity matrix.\n",
      "Computing the cosine similarity matrix...\n",
      "Done computing similarity matrix.\n",
      "Computing the msd similarity matrix...\n",
      "Done computing similarity matrix.\n",
      "Computing the msd similarity matrix...\n",
      "Done computing similarity matrix.\n",
      "Computing the msd similarity matrix...\n",
      "Done computing similarity matrix.\n",
      "Computing the pearson similarity matrix...\n",
      "Done computing similarity matrix.\n",
      "Computing the pearson similarity matrix...\n",
      "Done computing similarity matrix.\n",
      "Computing the pearson similarity matrix...\n",
      "Done computing similarity matrix.\n",
      "Computing the cosine similarity matrix...\n",
      "Done computing similarity matrix.\n",
      "Computing the cosine similarity matrix...\n",
      "Done computing similarity matrix.\n",
      "Computing the cosine similarity matrix...\n",
      "Done computing similarity matrix.\n",
      "Computing the msd similarity matrix...\n",
      "Done computing similarity matrix.\n",
      "Computing the msd similarity matrix...\n",
      "Done computing similarity matrix.\n",
      "Computing the msd similarity matrix...\n",
      "Done computing similarity matrix.\n",
      "Computing the pearson similarity matrix...\n",
      "Done computing similarity matrix.\n",
      "Computing the pearson similarity matrix...\n",
      "Done computing similarity matrix.\n",
      "Computing the pearson similarity matrix...\n",
      "Done computing similarity matrix.\n",
      "Best RMSE Score: 0.3311179451104074\n",
      "Best Parameters: {'k': 10, 'sim_options': {'name': 'msd', 'user_based': True}}\n",
      "CPU times: user 39min 11s, sys: 10min 52s, total: 50min 4s\n",
      "Wall time: 58min 33s\n"
     ]
    }
   ],
   "source": [
    "%%time\n",
    "param_grid = {\n",
    "    'k': [10, 20, 30],  # Thử nghiệm với các giá trị k khác nhau\n",
    "    'sim_options': {\n",
    "        'name': ['cosine','msd', 'pearson'],\n",
    "        # 'user_based': [True]\n",
    "    }\n",
    "}\n",
    "\n",
    "# Tạo đối tượng GridSearchCV để tìm tham số tối ưu.\n",
    "grid_search = GridSearchCV(KNNWithZScore, param_grid, measures=['rmse', 'mae'], cv=3)\n",
    "grid_search.fit(data)\n",
    "\n",
    "# In ra tham số tối ưu và hiệu suất tốt nhất.\n",
    "print(\"Best RMSE Score:\", grid_search.best_score['rmse'])\n",
    "print(\"Best Parameters:\", grid_search.best_params['rmse'])\n"
   ]
  },
  {
   "cell_type": "code",
   "execution_count": 13,
   "metadata": {
    "tags": []
   },
   "outputs": [
    {
     "name": "stdout",
     "output_type": "stream",
     "text": [
      "Computing the msd similarity matrix...\n",
      "Done computing similarity matrix.\n",
      "RMSE: 0.1902\n",
      "MAE:  0.1331\n",
      "CPU times: user 1min, sys: 3.73 s, total: 1min 4s\n",
      "Wall time: 1min 5s\n"
     ]
    }
   ],
   "source": [
    "%%time\n",
    "best_k = grid_search.best_params['rmse']['k']\n",
    "best_sim_options = grid_search.best_params['rmse']['sim_options']\n",
    "\n",
    "# Tạo mô hình KNN dựa trên tham số tối ưu.\n",
    "model = KNNBasic(k=best_k, sim_options=best_sim_options)\n",
    "\n",
    "# Huấn luyện mô hình trên tập huấn luyện.\n",
    "model.fit(trainset)\n",
    "\n",
    "# Dự đoán và đánh giá trên tập kiểm tra.\n",
    "predictions = model.test(testset)\n",
    "\n",
    "from surprise import accuracy\n",
    "rmse = accuracy.rmse(predictions)\n",
    "mae = accuracy.mae(predictions)\n"
   ]
  },
  {
   "cell_type": "markdown",
   "metadata": {},
   "source": [
    "## SVD"
   ]
  },
  {
   "cell_type": "code",
   "execution_count": 14,
   "metadata": {
    "id": "JtoH-lyHBd8K",
    "tags": []
   },
   "outputs": [],
   "source": [
    "from surprise import Reader, Dataset, SVD, SVDpp, NMF, KNNBaseline , accuracy"
   ]
  },
  {
   "cell_type": "code",
   "execution_count": 15,
   "metadata": {
    "id": "zuxBWBQdBWOv"
   },
   "outputs": [
    {
     "name": "stdout",
     "output_type": "stream",
     "text": [
      "Best RMSE Score: 0.2337883719392916\n",
      "Best Parameters: {'n_factors': 50, 'n_epochs': 10, 'lr_all': 0.002, 'reg_all': 0.04}\n",
      "CPU times: user 4min 5s, sys: 2.6 s, total: 4min 8s\n",
      "Wall time: 4min 15s\n"
     ]
    }
   ],
   "source": [
    "%%time\n",
    "param_grid = {\n",
    "    'n_factors': [50, 100, 200],        # Thử nghiệm với số lượng factors khác nhau\n",
    "    'n_epochs': [10, 20, 30],          # Thử nghiệm với số lượng epochs khác nhau\n",
    "    'lr_all': [0.002, 0.005, 0.01],    # Thử nghiệm với learning rate khác nhau\n",
    "    'reg_all': [0.02, 0.04, 0.06]      # Thử nghiệm với regularization khác nhau\n",
    "}\n",
    "\n",
    "# Tạo đối tượng GridSearchCV để tìm tham số tối ưu.\n",
    "grid_search = GridSearchCV(SVD, param_grid, measures=['rmse', 'mae'], cv=5)\n",
    "grid_search.fit(data)\n",
    "\n",
    "# In ra tham số tối ưu và hiệu suất tốt nhất.\n",
    "print(\"Best RMSE Score:\", grid_search.best_score['rmse'])\n",
    "print(\"Best Parameters:\", grid_search.best_params['rmse'])\n"
   ]
  },
  {
   "cell_type": "code",
   "execution_count": 16,
   "metadata": {
    "colab": {
     "base_uri": "https://localhost:8080/"
    },
    "id": "NCdiw356CCSu",
    "outputId": "4d5e2320-2459-434e-b277-92405edb094e"
   },
   "outputs": [
    {
     "name": "stdout",
     "output_type": "stream",
     "text": [
      "RMSE: 0.2343\n",
      "MAE:  0.1997\n",
      "CPU times: user 252 ms, sys: 153 ms, total: 405 ms\n",
      "Wall time: 405 ms\n"
     ]
    }
   ],
   "source": [
    "%%time\n",
    "best_n_factors = grid_search.best_params['rmse']['n_factors']\n",
    "best_n_epochs = grid_search.best_params['rmse']['n_epochs']\n",
    "best_lr_all = grid_search.best_params['rmse']['lr_all']\n",
    "best_reg_all = grid_search.best_params['rmse']['reg_all']\n",
    "\n",
    "# Tạo mô hình SVD dựa trên tham số tối ưu.\n",
    "model = SVD(n_factors=best_n_factors, n_epochs=best_n_epochs, lr_all=best_lr_all, reg_all=best_reg_all)\n",
    "\n",
    "# Huấn luyện mô hình trên tập huấn luyện.\n",
    "model.fit(trainset)\n",
    "\n",
    "# Dự đoán và đánh giá trên tập kiểm tra.\n",
    "predictions = model.test(testset)\n",
    "\n",
    "from surprise import accuracy\n",
    "rmse = accuracy.rmse(predictions)\n",
    "mae = accuracy.mae(predictions)\n"
   ]
  },
  {
   "cell_type": "markdown",
   "metadata": {
    "colab": {
     "base_uri": "https://localhost:8080/",
     "height": 561
    },
    "id": "l8mCaV3UCGNU",
    "outputId": "9fda574f-0449-4208-9093-18a3a36b572d"
   },
   "source": [
    "## SVD++"
   ]
  },
  {
   "cell_type": "code",
   "execution_count": 17,
   "metadata": {},
   "outputs": [
    {
     "name": "stdout",
     "output_type": "stream",
     "text": [
      "Best RMSE Score: 0.225803493217056\n",
      "Best Parameters: {'n_epochs': 10, 'lr_all': 0.002, 'reg_all': 0.02}\n",
      "CPU times: user 1min 22s, sys: 656 ms, total: 1min 23s\n",
      "Wall time: 1min 24s\n"
     ]
    }
   ],
   "source": [
    "%%time\n",
    "param_grid = {\n",
    "    'n_epochs': [10, 20, 30],        # Thử nghiệm với số lượng epochs khác nhau\n",
    "    'lr_all': [0.002, 0.005, 0.01],  # Thử nghiệm với learning rate khác nhau\n",
    "    'reg_all': [0.02, 0.04, 0.06]    # Thử nghiệm với regularization khác nhau\n",
    "}\n",
    "\n",
    "# Tạo đối tượng GridSearchCV để tìm tham số tối ưu.\n",
    "grid_search = GridSearchCV(SVDpp, param_grid, measures=['rmse', 'mae'], cv=5)\n",
    "grid_search.fit(data)\n",
    "\n",
    "# In ra tham số tối ưu và hiệu suất tốt nhất.\n",
    "print(\"Best RMSE Score:\", grid_search.best_score['rmse'])\n",
    "print(\"Best Parameters:\", grid_search.best_params['rmse'])\n"
   ]
  },
  {
   "cell_type": "code",
   "execution_count": 18,
   "metadata": {
    "tags": []
   },
   "outputs": [
    {
     "name": "stdout",
     "output_type": "stream",
     "text": [
      "RMSE: 0.2258\n",
      "MAE:  0.1913\n",
      "CPU times: user 438 ms, sys: 6.37 ms, total: 445 ms\n",
      "Wall time: 450 ms\n"
     ]
    }
   ],
   "source": [
    "%%time\n",
    "best_n_epochs = grid_search.best_params['rmse']['n_epochs']\n",
    "best_lr_all = grid_search.best_params['rmse']['lr_all']\n",
    "best_reg_all = grid_search.best_params['rmse']['reg_all']\n",
    "\n",
    "# Tạo mô hình SVD++ dựa trên tham số tối ưu.\n",
    "model = SVDpp(n_epochs=best_n_epochs, lr_all=best_lr_all, reg_all=best_reg_all)\n",
    "\n",
    "# Huấn luyện mô hình trên tập huấn luyện.\n",
    "model.fit(trainset)\n",
    "\n",
    "# Dự đoán và đánh giá trên tập kiểm tra.\n",
    "predictions = model.test(testset)\n",
    "\n",
    "from surprise import accuracy\n",
    "rmse = accuracy.rmse(predictions)\n",
    "mae = accuracy.mae(predictions)"
   ]
  },
  {
   "cell_type": "code",
   "execution_count": 19,
   "metadata": {},
   "outputs": [
    {
     "ename": "NameError",
     "evalue": "name 'a' is not defined",
     "output_type": "error",
     "traceback": [
      "\u001b[0;31m---------------------------------------------------------------------------\u001b[0m",
      "\u001b[0;31mNameError\u001b[0m                                 Traceback (most recent call last)",
      "Cell \u001b[0;32mIn[19], line 1\u001b[0m\n\u001b[0;32m----> 1\u001b[0m a\n",
      "\u001b[0;31mNameError\u001b[0m: name 'a' is not defined"
     ]
    }
   ],
   "source": [
    "a"
   ]
  },
  {
   "cell_type": "code",
   "execution_count": null,
   "metadata": {},
   "outputs": [],
   "source": []
  }
 ],
 "metadata": {
  "colab": {
   "provenance": []
  },
  "kernelspec": {
   "display_name": "Python 3 (ipykernel)",
   "language": "python",
   "name": "python3"
  },
  "language_info": {
   "codemirror_mode": {
    "name": "ipython",
    "version": 3
   },
   "file_extension": ".py",
   "mimetype": "text/x-python",
   "name": "python",
   "nbconvert_exporter": "python",
   "pygments_lexer": "ipython3",
   "version": "3.11.4"
  }
 },
 "nbformat": 4,
 "nbformat_minor": 4
}
